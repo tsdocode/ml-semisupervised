{
 "cells": [
  {
   "cell_type": "code",
   "execution_count": null,
   "id": "5164b3ef-c7f7-40aa-8e4e-57593eec63d9",
   "metadata": {},
   "outputs": [],
   "source": [
    "import warnings\n",
    "warnings.filterwarnings('ignore')"
   ]
  },
  {
   "cell_type": "code",
   "execution_count": null,
   "id": "ad7f0b5a-eefb-460d-b336-99de2d194a48",
   "metadata": {},
   "outputs": [],
   "source": [
    "import mlflow"
   ]
  },
  {
   "cell_type": "markdown",
   "id": "4c163bd6-4f96-42dd-ad8b-891e740e7bbe",
   "metadata": {
    "tags": []
   },
   "source": [
    "### Self-training"
   ]
  },
  {
   "cell_type": "code",
   "execution_count": null,
   "id": "0d696d11-9d28-4074-9e28-b0481dab2c82",
   "metadata": {},
   "outputs": [],
   "source": [
    "from dataset import MNIST, SpamTextDataset, MushroomDataset\n",
    "\n",
    "mnist = MNIST() \n",
    "newgroup = SpamTextDataset()\n",
    "mushroom = MushroomDataset()\n",
    "\n",
    "\n",
    "print(\n",
    "    f\"MINST numbers of sample {len(mnist.X)} \\n\"\n",
    "    f\"Spam text numbers of sample {len(newgroup.X)} \\n\" \n",
    "    f\"Mushroom numbers of sample {len(mushroom.X)} \\n\" \n",
    "    \n",
    ")"
   ]
  },
  {
   "cell_type": "code",
   "execution_count": null,
   "id": "89a9cd4e-3449-4077-89f5-f7fb854ab31a",
   "metadata": {},
   "outputs": [],
   "source": [
    "## Base model\n",
    "from sklearn.naive_bayes import GaussianNB\n",
    "from sklearn.linear_model import LogisticRegression\n",
    "\n",
    "\n",
    "\n",
    "lg = LogisticRegression( max_iter=1000)\n",
    "gnb = GaussianNB()"
   ]
  },
  {
   "cell_type": "code",
   "execution_count": null,
   "id": "a2d32794-82f9-4746-a56f-770958537725",
   "metadata": {},
   "outputs": [],
   "source": [
    "from experiment.self_training_experiment import SelfTrainingExperiment"
   ]
  },
  {
   "cell_type": "code",
   "execution_count": null,
   "id": "f23e9668-5694-4532-b611-f1934391631f",
   "metadata": {},
   "outputs": [],
   "source": [
    "method = \"Self-supervised\"\n",
    "# datasets = [mnist, mushroom, newgroup]\n",
    "datasets = [newgroup]\n",
    "\n",
    "estimator = [lg]\n",
    "\n",
    "experiment = SelfTrainingExperiment(method, datasets, estimator)\n",
    "# experiment.run()"
   ]
  },
  {
   "cell_type": "code",
   "execution_count": null,
   "id": "31f777bd-af8d-4319-a0db-9414d27dd41a",
   "metadata": {},
   "outputs": [],
   "source": [
    "experiment.ssl_datasets[0][0.05][0].shape"
   ]
  },
  {
   "cell_type": "code",
   "execution_count": null,
   "id": "4726a0f8-802b-41b9-92d2-154aab5bba31",
   "metadata": {},
   "outputs": [],
   "source": [
    "experiment.run()"
   ]
  },
  {
   "cell_type": "markdown",
   "id": "4f495687-375f-4e4c-add9-f34dcea5722f",
   "metadata": {
    "tags": []
   },
   "source": [
    "## Multi-view cotraining"
   ]
  },
  {
   "cell_type": "code",
   "execution_count": null,
   "id": "fe4aa49e-e6c5-4ae4-893d-ed8bf12b4c53",
   "metadata": {},
   "outputs": [],
   "source": [
    "from experiment.multiview_training_experiment import MultiviewTrainingExperiment"
   ]
  },
  {
   "cell_type": "code",
   "execution_count": null,
   "id": "a483a905-c93a-49a8-9753-6240b97ded3d",
   "metadata": {},
   "outputs": [],
   "source": [
    "datasets = [mnist]\n",
    "models = [lg, lg]\n",
    "\n",
    "multiview_experiment = MultiviewTrainingExperiment(datasets, models)"
   ]
  },
  {
   "cell_type": "code",
   "execution_count": null,
   "id": "e1db60ab-708c-48b7-8674-beb3c8b6da09",
   "metadata": {},
   "outputs": [],
   "source": [
    "multiview_experiment.run()"
   ]
  },
  {
   "cell_type": "markdown",
   "id": "8bbcb25c-3a91-4011-9460-646f47d95a05",
   "metadata": {
    "tags": []
   },
   "source": [
    "## Gaussian Mixture Model"
   ]
  },
  {
   "cell_type": "code",
   "execution_count": null,
   "id": "46d131e5-0be5-461a-8734-08fea4d403cc",
   "metadata": {},
   "outputs": [],
   "source": [
    "from experiment.gmm_experiment import GMMExperiment"
   ]
  },
  {
   "cell_type": "code",
   "execution_count": null,
   "id": "589dbffb-2ec9-4180-b666-f8130452b2c6",
   "metadata": {},
   "outputs": [],
   "source": [
    "datasets = [newgroup]"
   ]
  },
  {
   "cell_type": "code",
   "execution_count": null,
   "id": "d3bf73b3-c170-46c2-a208-f57b12f07980",
   "metadata": {},
   "outputs": [],
   "source": [
    "experiment = GMMExperiment(datasets, )"
   ]
  },
  {
   "cell_type": "code",
   "execution_count": null,
   "id": "c1673805-ca55-4dd4-ab7d-163538302d28",
   "metadata": {},
   "outputs": [],
   "source": [
    "experiment.run()"
   ]
  },
  {
   "cell_type": "markdown",
   "id": "b711eafe-4d23-4ea8-9771-d5b332cbe582",
   "metadata": {},
   "source": [
    "## Graph - Harmonic function"
   ]
  },
  {
   "cell_type": "code",
   "execution_count": null,
   "id": "34bba506-672b-459a-bfa5-51ecd57b2c0d",
   "metadata": {},
   "outputs": [],
   "source": [
    "from experiment.harmonic_experiment import HarmonicExperiment\n",
    "datasets = [newgroup]\n",
    "\n",
    "experiment = HarmonicExperiment(datasets, )\n",
    "\n",
    "experiment.run()"
   ]
  },
  {
   "cell_type": "markdown",
   "id": "18874fe1-675f-4697-a3bc-6ff4bee31646",
   "metadata": {},
   "source": [
    "## S3VM "
   ]
  },
  {
   "cell_type": "code",
   "execution_count": null,
   "id": "2fd5505e-c3ff-404d-b3c3-0eaa60076e04",
   "metadata": {},
   "outputs": [],
   "source": [
    "from experiment.s3vm_experiment import S3VMExperiment\n",
    "\n",
    "datasets = [newgroup]\n",
    "\n",
    "experiment = S3VMExperiment(datasets, )\n",
    "\n",
    "experiment.run()"
   ]
  },
  {
   "cell_type": "code",
   "execution_count": null,
   "id": "15749f14-706c-42f5-9867-21d34e698e4c",
   "metadata": {},
   "outputs": [],
   "source": []
  }
 ],
 "metadata": {
  "kernelspec": {
   "display_name": "Python 3 (ipykernel)",
   "language": "python",
   "name": "python3"
  },
  "language_info": {
   "codemirror_mode": {
    "name": "ipython",
    "version": 3
   },
   "file_extension": ".py",
   "mimetype": "text/x-python",
   "name": "python",
   "nbconvert_exporter": "python",
   "pygments_lexer": "ipython3",
   "version": "3.8.0"
  }
 },
 "nbformat": 4,
 "nbformat_minor": 5
}
